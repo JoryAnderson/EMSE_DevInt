{
 "cells": [
  {
   "cell_type": "markdown",
   "metadata": {},
   "source": [
    "References\n",
    "* http://derekgreene.com/slides/topic-modelling-with-scikitlearn.pdf"
   ]
  },
  {
   "cell_type": "code",
   "execution_count": 1,
   "metadata": {},
   "outputs": [],
   "source": [
    "import pandas as pd"
   ]
  },
  {
   "cell_type": "code",
   "execution_count": 2,
   "metadata": {},
   "outputs": [],
   "source": [
    "datafilepath = \"D:\\Victoria\\EMSE\\p2\\EMSE_DevInt\\python\\data\\data_processed\\data.csv\"\n",
    "savefilepath = \"D:\\Victoria\\EMSE\\p2\\EMSE_DevInt\\python\\data\\data_processed\\processed_data.csv\""
   ]
  },
  {
   "cell_type": "code",
   "execution_count": 3,
   "metadata": {},
   "outputs": [],
   "source": [
    "data = pd.read_csv(datafilepath)"
   ]
  },
  {
   "cell_type": "code",
   "execution_count": 4,
   "metadata": {},
   "outputs": [
    {
     "data": {
      "text/html": [
       "<div>\n",
       "<style scoped>\n",
       "    .dataframe tbody tr th:only-of-type {\n",
       "        vertical-align: middle;\n",
       "    }\n",
       "\n",
       "    .dataframe tbody tr th {\n",
       "        vertical-align: top;\n",
       "    }\n",
       "\n",
       "    .dataframe thead th {\n",
       "        text-align: right;\n",
       "    }\n",
       "</style>\n",
       "<table border=\"1\" class=\"dataframe\">\n",
       "  <thead>\n",
       "    <tr style=\"text-align: right;\">\n",
       "      <th></th>\n",
       "      <th>Unnamed: 0</th>\n",
       "      <th>dir</th>\n",
       "      <th>title</th>\n",
       "      <th>text</th>\n",
       "    </tr>\n",
       "  </thead>\n",
       "  <tbody>\n",
       "    <tr>\n",
       "      <th>0</th>\n",
       "      <td>0</td>\n",
       "      <td>1000137</td>\n",
       "      <td>DTE.ExecuteCommand and wait</td>\n",
       "      <td>I would like use macros for publishing my weba...</td>\n",
       "    </tr>\n",
       "    <tr>\n",
       "      <th>1</th>\n",
       "      <td>1</td>\n",
       "      <td>10005544</td>\n",
       "      <td>Interview question: data structure to set all ...</td>\n",
       "      <td>I encountered the following interview question...</td>\n",
       "    </tr>\n",
       "    <tr>\n",
       "      <th>2</th>\n",
       "      <td>2</td>\n",
       "      <td>10007328</td>\n",
       "      <td>100% height -dynamic height footer at the bottom</td>\n",
       "      <td>I have the following webpage.\\n\\n\\n\\nand the s...</td>\n",
       "    </tr>\n",
       "    <tr>\n",
       "      <th>3</th>\n",
       "      <td>3</td>\n",
       "      <td>10010324</td>\n",
       "      <td>Login failed for user &amp;quot;xxx&amp;quot; Failed t...</td>\n",
       "      <td>Im using entity framework code first. When sta...</td>\n",
       "    </tr>\n",
       "    <tr>\n",
       "      <th>4</th>\n",
       "      <td>4</td>\n",
       "      <td>10011261</td>\n",
       "      <td>How to lowercase the text in the EditText of t...</td>\n",
       "      <td>I'm using a searchable item with suggestion in...</td>\n",
       "    </tr>\n",
       "    <tr>\n",
       "      <th>...</th>\n",
       "      <td>...</td>\n",
       "      <td>...</td>\n",
       "      <td>...</td>\n",
       "      <td>...</td>\n",
       "    </tr>\n",
       "    <tr>\n",
       "      <th>9936</th>\n",
       "      <td>9936</td>\n",
       "      <td>9974592</td>\n",
       "      <td>I2C_SLAVE ioctl purpose</td>\n",
       "      <td>I am writing code for implementing a simple  r...</td>\n",
       "    </tr>\n",
       "    <tr>\n",
       "      <th>9937</th>\n",
       "      <td>9937</td>\n",
       "      <td>9987757</td>\n",
       "      <td>how to convert datetime to short date?</td>\n",
       "      <td>i have a table called as X and this table has ...</td>\n",
       "    </tr>\n",
       "    <tr>\n",
       "      <th>9938</th>\n",
       "      <td>9938</td>\n",
       "      <td>9989508</td>\n",
       "      <td>Creating random polygons within a set shapefil...</td>\n",
       "      <td>I have a shapefile which is the national bound...</td>\n",
       "    </tr>\n",
       "    <tr>\n",
       "      <th>9939</th>\n",
       "      <td>9939</td>\n",
       "      <td>9994838</td>\n",
       "      <td>FTS sqlite phrase search for single column not...</td>\n",
       "      <td>i've been using the FTS extension of sqlite, a...</td>\n",
       "    </tr>\n",
       "    <tr>\n",
       "      <th>9940</th>\n",
       "      <td>9940</td>\n",
       "      <td>999489</td>\n",
       "      <td>&amp;quot;Invalid signature file&amp;quot; when attemp...</td>\n",
       "      <td>My java program is packaged in a jar file and ...</td>\n",
       "    </tr>\n",
       "  </tbody>\n",
       "</table>\n",
       "<p>9941 rows × 4 columns</p>\n",
       "</div>"
      ],
      "text/plain": [
       "      Unnamed: 0       dir                                              title  \\\n",
       "0              0   1000137                        DTE.ExecuteCommand and wait   \n",
       "1              1  10005544  Interview question: data structure to set all ...   \n",
       "2              2  10007328   100% height -dynamic height footer at the bottom   \n",
       "3              3  10010324  Login failed for user &quot;xxx&quot; Failed t...   \n",
       "4              4  10011261  How to lowercase the text in the EditText of t...   \n",
       "...          ...       ...                                                ...   \n",
       "9936        9936   9974592                            I2C_SLAVE ioctl purpose   \n",
       "9937        9937   9987757             how to convert datetime to short date?   \n",
       "9938        9938   9989508  Creating random polygons within a set shapefil...   \n",
       "9939        9939   9994838  FTS sqlite phrase search for single column not...   \n",
       "9940        9940    999489  &quot;Invalid signature file&quot; when attemp...   \n",
       "\n",
       "                                                   text  \n",
       "0     I would like use macros for publishing my weba...  \n",
       "1     I encountered the following interview question...  \n",
       "2     I have the following webpage.\\n\\n\\n\\nand the s...  \n",
       "3     Im using entity framework code first. When sta...  \n",
       "4     I'm using a searchable item with suggestion in...  \n",
       "...                                                 ...  \n",
       "9936  I am writing code for implementing a simple  r...  \n",
       "9937  i have a table called as X and this table has ...  \n",
       "9938  I have a shapefile which is the national bound...  \n",
       "9939  i've been using the FTS extension of sqlite, a...  \n",
       "9940  My java program is packaged in a jar file and ...  \n",
       "\n",
       "[9941 rows x 4 columns]"
      ]
     },
     "execution_count": 4,
     "metadata": {},
     "output_type": "execute_result"
    }
   ],
   "source": [
    "data"
   ]
  },
  {
   "cell_type": "code",
   "execution_count": 5,
   "metadata": {},
   "outputs": [],
   "source": [
    "titles_and_texts = data['title'] +\" \"+ data['text']"
   ]
  },
  {
   "cell_type": "code",
   "execution_count": 6,
   "metadata": {},
   "outputs": [
    {
     "data": {
      "text/plain": [
       "0       DTE.ExecuteCommand and wait I would like use m...\n",
       "1       Interview question: data structure to set all ...\n",
       "2       100% height -dynamic height footer at the bott...\n",
       "3       Login failed for user &quot;xxx&quot; Failed t...\n",
       "4       How to lowercase the text in the EditText of t...\n",
       "                              ...                        \n",
       "9936    I2C_SLAVE ioctl purpose I am writing code for ...\n",
       "9937    how to convert datetime to short date? i have ...\n",
       "9938    Creating random polygons within a set shapefil...\n",
       "9939    FTS sqlite phrase search for single column not...\n",
       "9940    &quot;Invalid signature file&quot; when attemp...\n",
       "Length: 9941, dtype: object"
      ]
     },
     "execution_count": 6,
     "metadata": {},
     "output_type": "execute_result"
    }
   ],
   "source": [
    "titles_and_texts"
   ]
  },
  {
   "cell_type": "code",
   "execution_count": 7,
   "metadata": {},
   "outputs": [
    {
     "name": "stderr",
     "output_type": "stream",
     "text": [
      "[nltk_data] Downloading package stopwords to\n",
      "[nltk_data]     C:\\Users\\nimmi\\AppData\\Roaming\\nltk_data...\n",
      "[nltk_data]   Package stopwords is already up-to-date!\n"
     ]
    }
   ],
   "source": [
    "from tokenization import process"
   ]
  },
  {
   "cell_type": "code",
   "execution_count": 8,
   "metadata": {
    "scrolled": true
   },
   "outputs": [],
   "source": [
    "processed_data = titles_and_texts.map(process)"
   ]
  },
  {
   "cell_type": "code",
   "execution_count": 22,
   "metadata": {},
   "outputs": [],
   "source": [
    "data[\"processed_title_and_text\"] = processed_data\n",
    "data.to_csv(savefilepath)"
   ]
  },
  {
   "cell_type": "code",
   "execution_count": null,
   "metadata": {},
   "outputs": [],
   "source": []
  }
 ],
 "metadata": {
  "kernelspec": {
   "display_name": "Python 3",
   "language": "python",
   "name": "python3"
  },
  "language_info": {
   "codemirror_mode": {
    "name": "ipython",
    "version": 3
   },
   "file_extension": ".py",
   "mimetype": "text/x-python",
   "name": "python",
   "nbconvert_exporter": "python",
   "pygments_lexer": "ipython3",
   "version": "3.8.3"
  }
 },
 "nbformat": 4,
 "nbformat_minor": 4
}
