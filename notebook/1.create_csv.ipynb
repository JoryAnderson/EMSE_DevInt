{
 "cells": [
  {
   "cell_type": "code",
   "execution_count": 1,
   "metadata": {},
   "outputs": [],
   "source": [
    "import pandas as pd\n",
    "import os\n",
    "import sys"
   ]
  },
  {
   "cell_type": "code",
   "execution_count": 2,
   "metadata": {},
   "outputs": [],
   "source": [
    "path = \"D:\\Victoria\\EMSE\\p2\\EMSE_DevInt\\python\\data\\data_splitted\"\n",
    "savefilepath =\"D:\\Victoria\\EMSE\\p2\\EMSE_DevInt\\python\\data\\data_processed\\data.csv\""
   ]
  },
  {
   "cell_type": "code",
   "execution_count": 4,
   "metadata": {},
   "outputs": [],
   "source": [
    "def combine_data(path):\n",
    "    print(path)\n",
    "    # Get all directories in the main directory\n",
    "    dirs = os.listdir(path)\n",
    "\n",
    "    \n",
    "    # Define lists to store data\n",
    "    texts = [] #track texts\n",
    "    titles = []  # track titles\n",
    "    errors = []  # track errored directories\n",
    "    new_dirs = []  # track success directories\n",
    "    \n",
    "    # for printing\n",
    "    i=0\n",
    "    n=len(dirs)\n",
    "    \n",
    "    # loop over directories\n",
    "    for _dir in dirs:\n",
    "        if _dir != \".DS_Store\": # omit os generated files\n",
    "            \n",
    "            try:\n",
    "                # Obtain text\n",
    "                with open(path+\"/\"+_dir+\"/text.txt\", \"r\") as f:\n",
    "                    text = f.read()\n",
    "                \n",
    "                # Obtain title\n",
    "                with open(path+\"/\"+_dir+\"/title.txt\", \"r\") as f:\n",
    "                    title = f.read()\n",
    "                \n",
    "                # Store data in the lists\n",
    "                texts.append(text)\n",
    "                titles.append(title)\n",
    "                new_dirs.append(_dir)\n",
    "            except:\n",
    "                # Collect the list of errored directories\n",
    "                errors.append(_dir)\n",
    "                \n",
    "        # pring iteration\n",
    "        i = i + 1\n",
    "        print(\"Finished \"+str(i)+\"/\"+str(n))\n",
    "        \n",
    "    # return all the lists\n",
    "    return new_dirs, errors, titles, texts"
   ]
  },
  {
   "cell_type": "code",
   "execution_count": 5,
   "metadata": {},
   "outputs": [],
   "source": [
    "def create_csv(new_dirs, titles, texts):\n",
    "    list_of_tuples = list(zip(new_dirs,titles, texts))\n",
    "    df = pd.DataFrame(list_of_tuples, columns=['dir','title', 'text'])\n",
    "    return df"
   ]
  },
  {
   "cell_type": "code",
   "execution_count": 6,
   "metadata": {},
   "outputs": [],
   "source": [
    "# Permission denied error\n",
    "def save_csv(df, filepath):\n",
    "    df.to_csv(filepath)"
   ]
  },
  {
   "cell_type": "code",
   "execution_count": 19,
   "metadata": {},
   "outputs": [],
   "source": [
    "new_dirs, errors, titles, texts = combine_data(path)\n",
    "df = create_csv(new_dirs, titles, texts)\n",
    "save_csv(df, savefilepath)"
   ]
  },
  {
   "cell_type": "code",
   "execution_count": 20,
   "metadata": {},
   "outputs": [
    {
     "data": {
      "text/html": [
       "<div>\n",
       "<style scoped>\n",
       "    .dataframe tbody tr th:only-of-type {\n",
       "        vertical-align: middle;\n",
       "    }\n",
       "\n",
       "    .dataframe tbody tr th {\n",
       "        vertical-align: top;\n",
       "    }\n",
       "\n",
       "    .dataframe thead th {\n",
       "        text-align: right;\n",
       "    }\n",
       "</style>\n",
       "<table border=\"1\" class=\"dataframe\">\n",
       "  <thead>\n",
       "    <tr style=\"text-align: right;\">\n",
       "      <th></th>\n",
       "      <th>dir</th>\n",
       "      <th>title</th>\n",
       "      <th>text</th>\n",
       "    </tr>\n",
       "  </thead>\n",
       "  <tbody>\n",
       "    <tr>\n",
       "      <th>0</th>\n",
       "      <td>1000137</td>\n",
       "      <td>DTE.ExecuteCommand and wait</td>\n",
       "      <td>I would like use macros for publishing my weba...</td>\n",
       "    </tr>\n",
       "    <tr>\n",
       "      <th>1</th>\n",
       "      <td>10005544</td>\n",
       "      <td>Interview question: data structure to set all ...</td>\n",
       "      <td>I encountered the following interview question...</td>\n",
       "    </tr>\n",
       "    <tr>\n",
       "      <th>2</th>\n",
       "      <td>10007328</td>\n",
       "      <td>100% height -dynamic height footer at the bottom</td>\n",
       "      <td>I have the following webpage.\\n\\n\\n\\nand the s...</td>\n",
       "    </tr>\n",
       "    <tr>\n",
       "      <th>3</th>\n",
       "      <td>10010324</td>\n",
       "      <td>Login failed for user &amp;quot;xxx&amp;quot; Failed t...</td>\n",
       "      <td>Im using entity framework code first. When sta...</td>\n",
       "    </tr>\n",
       "    <tr>\n",
       "      <th>4</th>\n",
       "      <td>10011261</td>\n",
       "      <td>How to lowercase the text in the EditText of t...</td>\n",
       "      <td>I'm using a searchable item with suggestion in...</td>\n",
       "    </tr>\n",
       "  </tbody>\n",
       "</table>\n",
       "</div>"
      ],
      "text/plain": [
       "        dir                                              title  \\\n",
       "0   1000137                        DTE.ExecuteCommand and wait   \n",
       "1  10005544  Interview question: data structure to set all ...   \n",
       "2  10007328   100% height -dynamic height footer at the bottom   \n",
       "3  10010324  Login failed for user &quot;xxx&quot; Failed t...   \n",
       "4  10011261  How to lowercase the text in the EditText of t...   \n",
       "\n",
       "                                                text  \n",
       "0  I would like use macros for publishing my weba...  \n",
       "1  I encountered the following interview question...  \n",
       "2  I have the following webpage.\\n\\n\\n\\nand the s...  \n",
       "3  Im using entity framework code first. When sta...  \n",
       "4  I'm using a searchable item with suggestion in...  "
      ]
     },
     "execution_count": 20,
     "metadata": {},
     "output_type": "execute_result"
    }
   ],
   "source": [
    "df.head()"
   ]
  },
  {
   "cell_type": "code",
   "execution_count": null,
   "metadata": {},
   "outputs": [],
   "source": []
  }
 ],
 "metadata": {
  "kernelspec": {
   "display_name": "Python 3",
   "language": "python",
   "name": "python3"
  },
  "language_info": {
   "codemirror_mode": {
    "name": "ipython",
    "version": 3
   },
   "file_extension": ".py",
   "mimetype": "text/x-python",
   "name": "python",
   "nbconvert_exporter": "python",
   "pygments_lexer": "ipython3",
   "version": "3.8.3"
  }
 },
 "nbformat": 4,
 "nbformat_minor": 4
}
